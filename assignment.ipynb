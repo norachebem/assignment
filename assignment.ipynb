{
 "cells": [
  {
   "cell_type": "code",
   "execution_count": 2,
   "id": "cda2290c",
   "metadata": {},
   "outputs": [
    {
     "name": "stdout",
     "output_type": "stream",
     "text": [
      "16.666666666666668\n"
     ]
    },
    {
     "data": {
      "text/plain": [
       "16.666666666666668"
      ]
     },
     "execution_count": 2,
     "metadata": {},
     "output_type": "execute_result"
    }
   ],
   "source": [
    "def cons_per_day ():\n",
    "    no_of_days = 3\n",
    "    fuel_cons = 50\n",
    "    fuelPerDay = fuel_cons /  no_of_days\n",
    "    print(fuelPerDay)\n",
    "    return fuelPerDay\n",
    "\n",
    "cons_per_day()\n",
    "    \n"
   ]
  },
  {
   "cell_type": "code",
   "execution_count": 4,
   "id": "5bc8fb1e",
   "metadata": {},
   "outputs": [
    {
     "name": "stdout",
     "output_type": "stream",
     "text": [
      "16.666666666666668\n",
      "100.0\n",
      "16.666666666666668\n",
      "100.0\n",
      "1200.0\n"
     ]
    },
    {
     "data": {
      "text/plain": [
       "1200.0"
      ]
     },
     "execution_count": 4,
     "metadata": {},
     "output_type": "execute_result"
    }
   ],
   "source": [
    "def cons_9Days():\n",
    "    x = cons_per_day()\n",
    "    y = 9\n",
    "    z = x * y\n",
    "    \n",
    "    print(z)\n",
    "    return z\n",
    "cons_9Days()  \n",
    "\n",
    "def cons_3Months():\n",
    "    a = cons_9Days() \n",
    "    b = 12\n",
    "    c = a * b\n",
    "    print(c)  \n",
    "    return c \n",
    "cons_3Months()"
   ]
  },
  {
   "cell_type": "code",
   "execution_count": null,
   "id": "9c54f1ce",
   "metadata": {},
   "outputs": [],
   "source": []
  },
  {
   "cell_type": "code",
   "execution_count": null,
   "id": "79d0d656",
   "metadata": {},
   "outputs": [],
   "source": []
  }
 ],
 "metadata": {
  "kernelspec": {
   "display_name": "Python 3 (ipykernel)",
   "language": "python",
   "name": "python3"
  },
  "language_info": {
   "codemirror_mode": {
    "name": "ipython",
    "version": 3
   },
   "file_extension": ".py",
   "mimetype": "text/x-python",
   "name": "python",
   "nbconvert_exporter": "python",
   "pygments_lexer": "ipython3",
   "version": "3.11.1"
  }
 },
 "nbformat": 4,
 "nbformat_minor": 5
}
